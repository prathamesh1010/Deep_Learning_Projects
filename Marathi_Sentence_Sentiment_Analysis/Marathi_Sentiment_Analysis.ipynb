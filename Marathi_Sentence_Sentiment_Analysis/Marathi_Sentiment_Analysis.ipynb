{
 "cells": [
  {
   "cell_type": "code",
   "execution_count": null,
   "id": "52c95c49-cd5f-4e88-99bd-50a0fff8c57a",
   "metadata": {},
   "outputs": [
    {
     "data": {
      "application/vnd.jupyter.widget-view+json": {
       "model_id": "fc94ef13c16647d498f798553e57cd8b",
       "version_major": 2,
       "version_minor": 0
      },
      "text/plain": [
       "Map:   0%|          | 0/4 [00:00<?, ? examples/s]"
      ]
     },
     "metadata": {},
     "output_type": "display_data"
    },
    {
     "name": "stderr",
     "output_type": "stream",
     "text": [
      "Some weights of BertForSequenceClassification were not initialized from the model checkpoint at bert-base-multilingual-cased and are newly initialized: ['classifier.bias', 'classifier.weight']\n",
      "You should probably TRAIN this model on a down-stream task to be able to use it for predictions and inference.\n",
      "C:\\Users\\prathamesh\\AppData\\Local\\Temp\\ipykernel_26596\\4239162141.py:42: FutureWarning: `tokenizer` is deprecated and will be removed in version 5.0.0 for `Trainer.__init__`. Use `processing_class` instead.\n",
      "  trainer = Trainer(\n"
     ]
    },
    {
     "data": {
      "text/html": [
       "\n",
       "    <div>\n",
       "      \n",
       "      <progress value='3' max='3' style='width:300px; height:20px; vertical-align: middle;'></progress>\n",
       "      [3/3 00:14, Epoch 3/3]\n",
       "    </div>\n",
       "    <table border=\"1\" class=\"dataframe\">\n",
       "  <thead>\n",
       " <tr style=\"text-align: left;\">\n",
       "      <th>Epoch</th>\n",
       "      <th>Training Loss</th>\n",
       "      <th>Validation Loss</th>\n",
       "    </tr>\n",
       "  </thead>\n",
       "  <tbody>\n",
       "    <tr>\n",
       "      <td>1</td>\n",
       "      <td>No log</td>\n",
       "      <td>0.601694</td>\n",
       "    </tr>\n",
       "    <tr>\n",
       "      <td>2</td>\n",
       "      <td>No log</td>\n",
       "      <td>0.556033</td>\n",
       "    </tr>\n",
       "    <tr>\n",
       "      <td>3</td>\n",
       "      <td>No log</td>\n",
       "      <td>0.520250</td>\n",
       "    </tr>\n",
       "  </tbody>\n",
       "</table><p>"
      ],
      "text/plain": [
       "<IPython.core.display.HTML object>"
      ]
     },
     "metadata": {},
     "output_type": "display_data"
    },
    {
     "name": "stdin",
     "output_type": "stream",
     "text": [
      "Enter text for sentiment prediction (in Marathi) or type 'exit' to quit:  \": \"तुम्ही काय करत आहात?\"\n"
     ]
    },
    {
     "name": "stdout",
     "output_type": "stream",
     "text": [
      "Prediction for '\": \"तुम्ही काय करत आहात?\"': Positive\n"
     ]
    },
    {
     "name": "stdin",
     "output_type": "stream",
     "text": [
      "Enter text for sentiment prediction (in Marathi) or type 'exit' to quit:  आज बरीच वृष्टी झाली.\",\n"
     ]
    },
    {
     "name": "stdout",
     "output_type": "stream",
     "text": [
      "Prediction for 'आज बरीच वृष्टी झाली.\",': Positive\n"
     ]
    },
    {
     "name": "stdin",
     "output_type": "stream",
     "text": [
      "Enter text for sentiment prediction (in Marathi) or type 'exit' to quit:  \"तो खूप दुखी आहे.\"\n"
     ]
    },
    {
     "name": "stdout",
     "output_type": "stream",
     "text": [
      "Prediction for '\"तो खूप दुखी आहे.\"': Positive\n"
     ]
    },
    {
     "name": "stdin",
     "output_type": "stream",
     "text": [
      "Enter text for sentiment prediction (in Marathi) or type 'exit' to quit:  तो खूप दुखी आहे\n"
     ]
    },
    {
     "name": "stdout",
     "output_type": "stream",
     "text": [
      "Prediction for 'तो खूप दुखी आहे': Negative\n"
     ]
    },
    {
     "name": "stdin",
     "output_type": "stream",
     "text": [
      "Enter text for sentiment prediction (in Marathi) or type 'exit' to quit:  बरीच वृष्टी \n"
     ]
    },
    {
     "name": "stdout",
     "output_type": "stream",
     "text": [
      "Prediction for 'बरीच वृष्टी ': Positive\n"
     ]
    },
    {
     "name": "stdin",
     "output_type": "stream",
     "text": [
      "Enter text for sentiment prediction (in Marathi) or type 'exit' to quit:   घर आहे\n"
     ]
    },
    {
     "name": "stdout",
     "output_type": "stream",
     "text": [
      "Prediction for ' घर आहे': Positive\n"
     ]
    },
    {
     "name": "stdin",
     "output_type": "stream",
     "text": [
      "Enter text for sentiment prediction (in Marathi) or type 'exit' to quit:  वृष्टी झाली.\n"
     ]
    },
    {
     "name": "stdout",
     "output_type": "stream",
     "text": [
      "Prediction for 'वृष्टी झाली.': Negative\n"
     ]
    }
   ],
   "source": [
    "from transformers import BertTokenizerFast, BertForSequenceClassification, Trainer, TrainingArguments\n",
    "from datasets import Dataset\n",
    "import torch  # Added missing import\n",
    "\n",
    "# Step 1: Simulating a small Marathi dataset (For demo purposes)\n",
    "marathi_text = [\n",
    "    {\"text\": \"हे माझं घर आहे.\", \"label\": 0},  # Positive sentiment\n",
    "    {\"text\": \"आज बरीच वृष्टी झाली.\", \"label\": 1},  # Negative sentiment\n",
    "    {\"text\": \"तुम्ही काय करत आहात?\", \"label\": 0},  # Positive sentiment\n",
    "    {\"text\": \"तो खूप दुखी आहे.\", \"label\": 1},  # Negative sentiment\n",
    "]\n",
    "\n",
    "# Convert it into a Dataset\n",
    "marathi_dataset = Dataset.from_dict({\n",
    "    \"text\": [item[\"text\"] for item in marathi_text],\n",
    "    \"label\": [item[\"label\"] for item in marathi_text]\n",
    "})\n",
    "\n",
    "# Step 2: Tokenizing the data using BertTokenizerFast\n",
    "tokenizer = BertTokenizerFast.from_pretrained('bert-base-multilingual-cased')\n",
    "\n",
    "def preprocess_function(examples):\n",
    "    return tokenizer(examples['text'], truncation=True, padding='max_length', max_length=128)\n",
    "\n",
    "# Apply tokenization to the dataset\n",
    "tokenized_datasets = marathi_dataset.map(preprocess_function, batched=True)\n",
    "\n",
    "# Step 3: Fine-tuning the BERT model for sequence classification\n",
    "model = BertForSequenceClassification.from_pretrained('bert-base-multilingual-cased', num_labels=2)\n",
    "\n",
    "# Define training arguments\n",
    "training_args = TrainingArguments(\n",
    "    output_dir=\"./results\",\n",
    "    eval_strategy=\"epoch\",\n",
    "    learning_rate=2e-5,\n",
    "    per_device_train_batch_size=8,\n",
    "    num_train_epochs=3,\n",
    "    weight_decay=0.01,\n",
    ")\n",
    "\n",
    "# Corrected Trainer setup\n",
    "trainer = Trainer(\n",
    "    model=model,\n",
    "    args=training_args,\n",
    "    train_dataset=tokenized_datasets,\n",
    "    eval_dataset=tokenized_datasets,\n",
    "    tokenizer=tokenizer,  # Set the tokenizer here\n",
    ")\n",
    "\n",
    "# Step 4: Training the model\n",
    "trainer.train()\n",
    "\n",
    "# Step 5: Testing the model (classification)\n",
    "def predict(text):\n",
    "    inputs = tokenizer(text, return_tensors=\"pt\", truncation=True, padding='max_length', max_length=128)\n",
    "    with torch.no_grad():\n",
    "        outputs = model(**inputs)\n",
    "    prediction = torch.argmax(outputs.logits, dim=-1).item()\n",
    "    return \"Positive\" if prediction == 0 else \"Negative\"\n",
    "\n",
    "# Step 6: Implement continuous input function\n",
    "def get_input_prediction():\n",
    "    while True:\n",
    "        test_text = input(\"Enter text for sentiment prediction (in Marathi) or type 'exit' to quit: \")\n",
    "        if test_text.lower() == 'exit':\n",
    "            print(\"Exiting the program.\")\n",
    "            break\n",
    "        prediction = predict(test_text)\n",
    "        print(f\"Prediction for '{test_text}': {prediction}\")\n",
    "\n",
    "# Call the input function to allow user interaction\n",
    "get_input_prediction()\n"
   ]
  },
  {
   "cell_type": "code",
   "execution_count": null,
   "id": "5a251488-a1dc-4008-8902-aa6fe72b6c3f",
   "metadata": {},
   "outputs": [],
   "source": []
  }
 ],
 "metadata": {
  "kernelspec": {
   "display_name": "Python 3 (ipykernel)",
   "language": "python",
   "name": "python3"
  },
  "language_info": {
   "codemirror_mode": {
    "name": "ipython",
    "version": 3
   },
   "file_extension": ".py",
   "mimetype": "text/x-python",
   "name": "python",
   "nbconvert_exporter": "python",
   "pygments_lexer": "ipython3",
   "version": "3.12.4"
  }
 },
 "nbformat": 4,
 "nbformat_minor": 5
}
