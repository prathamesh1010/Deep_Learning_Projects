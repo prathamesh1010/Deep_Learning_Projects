{
 "cells": [
  {
   "cell_type": "code",
   "execution_count": null,
   "id": "862a1919-cf20-4890-a59d-0c55e5e094c6",
   "metadata": {},
   "outputs": [
    {
     "name": "stdout",
     "output_type": "stream",
     "text": [
      "WARNING:tensorflow:From C:\\Users\\prathamesh\\AppData\\Local\\anaconda3\\Lib\\site-packages\\tf_keras\\src\\losses.py:2976: The name tf.losses.sparse_softmax_cross_entropy is deprecated. Please use tf.compat.v1.losses.sparse_softmax_cross_entropy instead.\n",
      "\n",
      "User: पैसे कसे भरायचे?\n",
      "Bot: 'नवीन खाते तयार करा' वर क्लिक करून फॉर्म भरा.\n"
     ]
    },
    {
     "name": "stderr",
     "output_type": "stream",
     "text": [
      "Some weights of BertForSequenceClassification were not initialized from the model checkpoint at bert-base-multilingual-cased and are newly initialized: ['classifier.bias', 'classifier.weight']\n",
      "You should probably TRAIN this model on a down-stream task to be able to use it for predictions and inference.\n"
     ]
    },
    {
     "name": "stdout",
     "output_type": "stream",
     "text": [
      "Epoch 1 completed\n",
      "Epoch 2 completed\n",
      "Epoch 3 completed\n",
      "'नवीन खाते तयार करा' वर क्लिक करून फॉर्म भरा.\n"
     ]
    },
    {
     "name": "stdin",
     "output_type": "stream",
     "text": [
      "तुमचा प्रश्न टाइप करा (exit साठी 'बंद' टाइप करा):   कसे करावे?\n"
     ]
    },
    {
     "name": "stdout",
     "output_type": "stream",
     "text": [
      "Bot: 'नवीन खाते तयार करा' वर क्लिक करून फॉर्म भरा.\n"
     ]
    }
   ],
   "source": [
    "\n",
    "\n",
    "# Import required libraries\n",
    "import pandas as pd\n",
    "import torch\n",
    "from sklearn.model_selection import train_test_split\n",
    "from sklearn.preprocessing import LabelEncoder\n",
    "from transformers import AutoTokenizer, AutoModelForSequenceClassification\n",
    "from sentence_transformers import SentenceTransformer, util\n",
    "from torch.utils.data import Dataset, DataLoader\n",
    "import numpy as np\n",
    "\n",
    "# Create synthetic Marathi FAQ data\n",
    "faq_data = {\n",
    "    \"question\": [\n",
    "        \"तुमचे कार्यालय कुठे आहे?\",\n",
    "        \"ऑनलाईन पेमेंट कसे करावे?\",\n",
    "        \"उत्पादनाची हमी किती काळ आहे?\",\n",
    "        \"खाते कसे बनवायचे?\",\n",
    "        \"ऑर्डर कॅन्सल कसे करायचे?\"\n",
    "    ],\n",
    "    \"answer\": [\n",
    "        \"आमचे कार्यालय पुणे येथे आहे.\",\n",
    "        'भुगतान पृष्ठावर जा आणि \"ऑनलाईन पेमेंट\" पर्याय निवडा.',\n",
    "        \"सर्व उत्पादनांना १ वर्षाची हमी आहे.\",\n",
    "        \"'नवीन खाते तयार करा' वर क्लिक करून फॉर्म भरा.\",\n",
    "        \"माय अकाऊंटमध्ये जाऊन ऑर्डर कॅन्सल करू शकता.\"\n",
    "    ]\n",
    "}\n",
    "\n",
    "df = pd.DataFrame(faq_data)\n",
    "\n",
    "# Use Sentence-Transformer to encode questions (for question-answer retrieval)\n",
    "sentence_model = SentenceTransformer('paraphrase-multilingual-MiniLM-L12-v2')\n",
    "\n",
    "# Encode questions\n",
    "question_embeddings = sentence_model.encode(df['question'].tolist())\n",
    "\n",
    "def get_answer(user_query):\n",
    "    query_embedding = sentence_model.encode(user_query)\n",
    "    similarities = util.pytorch_cos_sim(query_embedding, question_embeddings)[0]\n",
    "    most_similar_idx = int(np.argmax(similarities))  # Convert to int\n",
    "    return df.iloc[most_similar_idx]['answer']\n",
    "\n",
    "# Test the chatbot for question-answer retrieval\n",
    "user_input = \"पैसे कसे भरायचे?\"\n",
    "print(f\"User: {user_input}\")\n",
    "print(f\"Bot: {get_answer(user_input)}\")\n",
    "\n",
    "# Intent Classification - Label encoding the questions\n",
    "df['intent'] = LabelEncoder().fit_transform(df['question'])\n",
    "X_train, X_test, y_train, y_test = train_test_split(df['question'], df['intent'], test_size=0.2)\n",
    "\n",
    "# Load the pre-trained multilingual BERT model for intent classification\n",
    "tokenizer = AutoTokenizer.from_pretrained(\"bert-base-multilingual-cased\")\n",
    "bert_model = AutoModelForSequenceClassification.from_pretrained(\"bert-base-multilingual-cased\", num_labels=len(df))\n",
    "\n",
    "# Tokenize data\n",
    "train_encodings = tokenizer(X_train.tolist(), truncation=True, padding=True, max_length=128)\n",
    "test_encodings = tokenizer(X_test.tolist(), truncation=True, padding=True, max_length=128)\n",
    "\n",
    "# Custom Dataset Class for Intent Classification\n",
    "class IntentDataset(Dataset):\n",
    "    def __init__(self, encodings, labels):\n",
    "        self.encodings = encodings\n",
    "        self.labels = labels\n",
    "\n",
    "    def __getitem__(self, idx):\n",
    "        item = {key: torch.tensor(val[idx]) for key, val in self.encodings.items()}\n",
    "        item['labels'] = torch.tensor(self.labels.iloc[idx], dtype=torch.long)  # Ensure labels are Long type\n",
    "        return item\n",
    "\n",
    "    def __len__(self):\n",
    "        return len(self.labels)\n",
    "\n",
    "train_dataset = IntentDataset(train_encodings, y_train)\n",
    "train_loader = DataLoader(train_dataset, batch_size=8, shuffle=True)\n",
    "\n",
    "# Training Loop for Intent Classification\n",
    "optimizer = torch.optim.AdamW(bert_model.parameters(), lr=5e-5)\n",
    "device = torch.device('cuda' if torch.cuda.is_available() else 'cpu')\n",
    "bert_model.to(device)\n",
    "\n",
    "bert_model.train()\n",
    "for epoch in range(3):\n",
    "    for batch in train_loader:\n",
    "        optimizer.zero_grad()\n",
    "        input_ids = batch['input_ids'].to(device)\n",
    "        attention_mask = batch['attention_mask'].to(device)\n",
    "        labels = batch['labels'].to(device)\n",
    "        outputs = bert_model(input_ids, attention_mask=attention_mask, labels=labels)\n",
    "        loss = outputs.loss\n",
    "        loss.backward()\n",
    "        optimizer.step()\n",
    "    print(f\"Epoch {epoch + 1} completed\")\n",
    "\n",
    "# Predict intent function\n",
    "def predict_intent(text):\n",
    "    inputs = tokenizer(text, return_tensors=\"pt\", padding=True, truncation=True, max_length=128).to(device)\n",
    "    outputs = bert_model(**inputs)\n",
    "    predicted_label = torch.argmax(outputs.logits).item()\n",
    "    return df[df['intent'] == predicted_label]['answer'].values[0]\n",
    "\n",
    "# Test the intent prediction\n",
    "print(predict_intent(\"हमी किती काळ आहे?\"))\n",
    "\n",
    "# Chatbot for real-time interaction (this uses question-answer retrieval with SentenceTransformer)\n",
    "while True:\n",
    "    user_input = input(\"तुमचा प्रश्न टाइप करा (exit साठी 'बंद' टाइप करा): \")\n",
    "    if user_input.lower() == 'बंद':\n",
    "        break\n",
    "    print(f\"Bot: {get_answer(user_input)}\")\n"
   ]
  },
  {
   "cell_type": "code",
   "execution_count": null,
   "id": "3bd2411d-208d-4f6a-8009-724aab0ff0d9",
   "metadata": {},
   "outputs": [],
   "source": []
  }
 ],
 "metadata": {
  "kernelspec": {
   "display_name": "Python 3 (ipykernel)",
   "language": "python",
   "name": "python3"
  },
  "language_info": {
   "codemirror_mode": {
    "name": "ipython",
    "version": 3
   },
   "file_extension": ".py",
   "mimetype": "text/x-python",
   "name": "python",
   "nbconvert_exporter": "python",
   "pygments_lexer": "ipython3",
   "version": "3.12.4"
  }
 },
 "nbformat": 4,
 "nbformat_minor": 5
}
